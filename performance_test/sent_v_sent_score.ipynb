{
 "cells": [
  {
   "cell_type": "code",
   "execution_count": 1,
   "id": "f8001aa2",
   "metadata": {},
   "outputs": [],
   "source": [
    "import os \n",
    "import pandas as pd\n",
    "from sklearn.metrics.pairwise import cosine_similarity\n",
    "from sentence_transformers import SentenceTransformer"
   ]
  },
  {
   "cell_type": "code",
   "execution_count": 2,
   "id": "56a44ff0",
   "metadata": {},
   "outputs": [],
   "source": [
    "os.environ['CUDA_VISIBLE_DEVICES']='0'"
   ]
  },
  {
   "cell_type": "code",
   "execution_count": 3,
   "id": "0095bcd6",
   "metadata": {},
   "outputs": [],
   "source": [
    "df1 = pd.read_excel('keydata_jy.xlsx')\n",
    "df2 = pd.read_excel('keydata_yr.xlsx')\n",
    "\n",
    "sents1 = df1['Sentence'].values.tolist()\n",
    "neg1 =df1['정보량 부족'].values.tolist()\n",
    "pos1 = df1['정보량 많음'].values.tolist()\n",
    "\n",
    "sents2 = df2['Sentence'].values.tolist()\n",
    "neg2 =df2['정보량 부족'].values.tolist()\n",
    "pos2 = df2['정보량 많음'].values.tolist()\n",
    "\n",
    "sents = sents1+sents2\n",
    "neg = neg1+neg2\n",
    "pos = pos1+pos2\n",
    "\n",
    "sents_st = ['[SENT] '+ i for i in sents]\n",
    "pos_st = ['[SENT] '+ i for i in pos]\n",
    "neg_st = ['[SENT] '+ i for i in neg]"
   ]
  },
  {
   "cell_type": "code",
   "execution_count": 4,
   "id": "6bffecf6",
   "metadata": {},
   "outputs": [
    {
     "data": {
      "text/plain": [
       "100"
      ]
     },
     "execution_count": 4,
     "metadata": {},
     "output_type": "execute_result"
    }
   ],
   "source": [
    "len(sents_st)"
   ]
  },
  {
   "cell_type": "code",
   "execution_count": 5,
   "id": "d4ffea26",
   "metadata": {},
   "outputs": [
    {
     "data": {
      "text/plain": [
       "234624"
      ]
     },
     "execution_count": 5,
     "metadata": {},
     "output_type": "execute_result"
    }
   ],
   "source": [
    "16*14664"
   ]
  },
  {
   "cell_type": "code",
   "execution_count": 4,
   "id": "80b3ce18",
   "metadata": {},
   "outputs": [],
   "source": [
    "def model2_vec(train, test, model):\n",
    "    vec1 = model.encode(train)\n",
    "    vec2 = model.encode(test)\n",
    "    print('done1')\n",
    "    return vec1, vec2 \n",
    "\n",
    "def qwertest(sents, pos, neg, model):\n",
    "    sv_lst1, sv_lst2=[],[]\n",
    "    for i,j,k, in zip(sents,pos,neg):\n",
    "\n",
    "        sv_lst1.append(cos_sim_check(k,i,model))\n",
    "        sv_lst2.append(cos_sim_check(j,i, model))\n",
    "        \n",
    "    return sv_lst1, sv_lst2\n",
    "\n",
    "def cos_sim_check(keywords, sent, model):\n",
    "    key_vec = model.encode(keywords)\n",
    "    sent_vec= model.encode(sent)\n",
    "    new = [key_vec, sent_vec]\n",
    "    sim = cosine_similarity(new)\n",
    "    return round(sim[0][1], 3)"
   ]
  },
  {
   "cell_type": "code",
   "execution_count": 5,
   "id": "71650e5a",
   "metadata": {},
   "outputs": [
    {
     "name": "stdout",
     "output_type": "stream",
     "text": [
      "\n"
     ]
    }
   ],
   "source": [
    "# sbert_iq = SentenceTransformer('../model_results/sbert_iq_all')\n",
    "# ours_ad = SentenceTransformer('../model_results_ft/ours_ad_exc_neu')\n",
    "# ours_ad_st = SentenceTransformer('../model_results_ft/ours_ad_st_exc_neu')\n",
    "ours_curr = SentenceTransformer('../model_results_ft/ours_curr_exc_neu')\n",
    "\n",
    "#sbert_iq.to('cuda')\n",
    "# ours_ad.to('cuda')\n",
    "# ours_ad_st.to('cuda')\n",
    "ours_curr.to('cuda')\n",
    "print('')"
   ]
  },
  {
   "cell_type": "code",
   "execution_count": 8,
   "id": "833edf5f",
   "metadata": {},
   "outputs": [],
   "source": [
    "#sb_neg,sb_pos = qwertest(sents,pos,neg,sbert_iq)\n",
    "# ours_ad_neg,ours_ad_pos  = qwertest(sents,pos,neg,ours_ad)\n",
    "# ours_ad_st_neg,ours_ad_st_pos  = qwertest(sents_st,pos_st,neg_st,ours_ad_st)\n",
    "ours_curr_neg,ours_curr_pos  = qwertest(sents_st,pos_st,neg_st,ours_curr)"
   ]
  },
  {
   "cell_type": "code",
   "execution_count": 9,
   "id": "ef3d7619",
   "metadata": {},
   "outputs": [
    {
     "name": "stdout",
     "output_type": "stream",
     "text": [
      "ours_ad neg score  0.48857999965548515\n",
      "ours_ad pos score  0.8493999952077865\n",
      "------------------------------------------------------------\n",
      "ours_ad_st neg score  0.5156300008296967\n",
      "ours_ad_st pos score  0.849909999370575\n",
      "------------------------------------------------------------\n",
      "ours_curr neg score  0.37691999912261964\n",
      "ours_curr pos score  0.805379998087883\n"
     ]
    }
   ],
   "source": [
    "# print('sb neg score ', sum(sb_neg)/len(sb_pos))\n",
    "# print('sb pos score ', sum(sb_pos)/len(sb_pos))\n",
    "# print('--'*30)\n",
    "# print('ours_ad neg score ', sum(ours_ad_neg)/len(ours_ad_pos))\n",
    "# print('ours_ad pos score ', sum(ours_ad_pos)/len(ours_ad_pos))\n",
    "# print('--'*30)\n",
    "# print('ours_ad_st neg score ', sum(ours_ad_st_neg)/len(ours_ad_st_pos))\n",
    "# print('ours_ad_st pos score ', sum(ours_ad_st_pos)/len(ours_ad_st_pos))\n",
    "# print('--'*30)\n",
    "print('ours_curr neg score ', sum(ours_curr_neg)/len(ours_curr_pos))\n",
    "print('ours_curr pos score ', sum(ours_curr_pos)/len(ours_curr_pos))"
   ]
  },
  {
   "cell_type": "code",
   "execution_count": null,
   "id": "73860d80",
   "metadata": {},
   "outputs": [],
   "source": []
  }
 ],
 "metadata": {
  "kernelspec": {
   "display_name": "Python 3 (ipykernel)",
   "language": "python",
   "name": "python3"
  },
  "language_info": {
   "codemirror_mode": {
    "name": "ipython",
    "version": 3
   },
   "file_extension": ".py",
   "mimetype": "text/x-python",
   "name": "python",
   "nbconvert_exporter": "python",
   "pygments_lexer": "ipython3",
   "version": "3.7.10"
  }
 },
 "nbformat": 4,
 "nbformat_minor": 5
}
