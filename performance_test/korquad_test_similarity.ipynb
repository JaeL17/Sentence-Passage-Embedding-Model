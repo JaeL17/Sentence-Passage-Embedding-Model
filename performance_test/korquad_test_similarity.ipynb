{
 "cells": [
  {
   "cell_type": "code",
   "execution_count": 1,
   "id": "1e15bbdb",
   "metadata": {},
   "outputs": [],
   "source": [
    "import json\n",
    "from sentence_transformers import SentenceTransformer\n",
    "from sklearn.metrics.pairwise import cosine_similarity\n",
    "from sklearn.neighbors import NearestNeighbors\n",
    "import os\n",
    "import random\n",
    "from transformers import AutoTokenizer"
   ]
  },
  {
   "cell_type": "code",
   "execution_count": 2,
   "id": "6ec2a5ff",
   "metadata": {},
   "outputs": [],
   "source": [
    "os.environ['CUDA_VISIBLE_DEVICES']='0'\n",
    "tokenizer = AutoTokenizer.from_pretrained('klue/bert-base')"
   ]
  },
  {
   "cell_type": "code",
   "execution_count": 3,
   "id": "721750fc",
   "metadata": {},
   "outputs": [],
   "source": [
    "with open('korquad_sim_sep.json', 'r', encoding='utf8') as fp:\n",
    "    pairs = json.load(fp)"
   ]
  },
  {
   "cell_type": "code",
   "execution_count": 4,
   "id": "08b03d15",
   "metadata": {},
   "outputs": [
    {
     "name": "stdout",
     "output_type": "stream",
     "text": [
      "\n"
     ]
    }
   ],
   "source": [
    "#sbert_iq = SentenceTransformer('../model_results/sbert_iq_all')\n",
    "ours_ad = SentenceTransformer('../model_results_ft/ours_ad_exc_neu')\n",
    "ours_ad_st = SentenceTransformer('../model_results_ft/ours_ad_st_exc_neu')\n",
    "ours_curr = SentenceTransformer('../model_results_ft/ours_curr_exc_neu')\n",
    "\n",
    "#sbert_iq.to('cuda')\n",
    "ours_ad.to('cuda')\n",
    "ours_ad_st.to('cuda')\n",
    "ours_curr.to('cuda')\n",
    "print('')"
   ]
  },
  {
   "cell_type": "code",
   "execution_count": 5,
   "id": "722619a9",
   "metadata": {},
   "outputs": [],
   "source": [
    "# pairs =[]\n",
    "# for cnt, i in enumerate(test_data['data']):\n",
    "#     for p in i['paragraphs']:\n",
    "# #      `   if len(tokenizer.tokenize(p['doc']))<510:\n",
    "#         for qs in p['qas']:\n",
    "#             rn1 = random.randint(0,len(test_data))\n",
    "#             while rn1 == cnt:\n",
    "#                 rn1 = random.randint(0,len(test_data)-1)\n",
    "#             rn2 = random.randint(0, len(test_data['data'][rn1]['paragraphs'])-1)\n",
    "#             pairs.append({\n",
    "#                 'sent': qs['question'],\n",
    "#                 'doc': p['context'],\n",
    "#                 'neg_doc':test_data['data'][rn1]['paragraphs'][rn2]['context']\n",
    "#             })\n"
   ]
  },
  {
   "cell_type": "code",
   "execution_count": 6,
   "id": "67a231ab",
   "metadata": {},
   "outputs": [],
   "source": [
    "# # less than 510 tokens\n",
    "# pairs =[]\n",
    "# for cnt, i in enumerate(test_data['data']):\n",
    "#     for p in i['paragraphs']:\n",
    "#         if len(tokenizer.tokenize(p['context']))<500:\n",
    "#             for qs in p['qas']:\n",
    "#                 rn1 = random.randint(0,len(test_data))\n",
    "#                 while rn1 == cnt:\n",
    "#                     rn1 = random.randint(0,len(test_data)-1)\n",
    "#                 rn2 = random.randint(0, len(test_data['data'][rn1]['paragraphs'])-1)\n",
    "                \n",
    "#                 while len(tokenizer.tokenize(test_data['data'][rn1]['paragraphs'][rn2]['context']))>510:\n",
    "#                     rn1 = random.randint(0,len(test_data))\n",
    "#                     while rn1 == cnt:\n",
    "#                         rn1 = random.randint(0,len(test_data)-1)\n",
    "#                     rn2 = random.randint(0, len(test_data['data'][rn1]['paragraphs'])-1)\n",
    "\n",
    "#                 pairs.append({\n",
    "#                     'sent': qs['question'],\n",
    "#                     'doc': p['context'],\n",
    "#                     'neg_doc':test_data['data'][rn1]['paragraphs'][rn2]['context']\n",
    "#                 })\n"
   ]
  },
  {
   "cell_type": "code",
   "execution_count": 7,
   "id": "f17635a3",
   "metadata": {},
   "outputs": [],
   "source": [
    "psg = [i['doc'] for i in pairs]\n",
    "sents = [i['sent'] for i in pairs]\n",
    "psg_st = ['[PSG] ' +i['doc'] for i in pairs]\n",
    "sents_st = ['[SENT] '+i['sent'] for i in pairs]\n",
    "neg_psg = [i['neg_doc'] for i in pairs]\n",
    "neg_psg_st = ['[PSG] '+i['neg_doc'] for i in pairs]"
   ]
  },
  {
   "cell_type": "code",
   "execution_count": 8,
   "id": "e8e904ae",
   "metadata": {},
   "outputs": [
    {
     "data": {
      "text/plain": [
       "5774"
      ]
     },
     "execution_count": 8,
     "metadata": {},
     "output_type": "execute_result"
    }
   ],
   "source": [
    "len(neg_psg_st)"
   ]
  },
  {
   "cell_type": "code",
   "execution_count": 9,
   "id": "ed9b944b",
   "metadata": {},
   "outputs": [],
   "source": [
    "def psg_sent_vec(psg, sents, neg_psg, model):\n",
    "    vec1 = model.encode(psg)\n",
    "    vec2 = model.encode(sents)\n",
    "    vec3 = model.encode(neg_psg)\n",
    "    return vec1, vec2, vec3\n",
    "def knn(index_vec, test_vec):\n",
    "    knn_model = NearestNeighbors(n_neighbors=3,\n",
    "                     metric='cosine',\n",
    "                     algorithm='brute',\n",
    "                     n_jobs=-1)\n",
    "    knn_model.fit(index_vec)\n",
    "    res = knn_model.kneighbors(test_vec, 3, return_distance=True)\n",
    "    \n",
    "    return res\n",
    "\n",
    "def cos_sim(psg, sent, neg_psg, model):\n",
    "    pvec,svec, npvec = psg_sent_vec(psg, sent,neg_psg, model)\n",
    "    cos_sim1 = cosine_similarity([pvec, svec])[0][1]\n",
    "    cos_sim2 = cosine_similarity([npvec, svec])[0][1]\n",
    "    return cos_sim1, cos_sim2\n",
    "    #print(m_name,': ' ,cos_sim,)\n",
    "    \n",
    "def print_sim(text,pos, neg, model, model_name):\n",
    "    cn1,cn2 = 0,0\n",
    "    for t,p,n in zip(text,pos,neg):\n",
    "        c1, c2 = cos_sim(p,t,n, model)\n",
    "        cn1 += c1\n",
    "        cn2 += c2\n",
    "    print(model_name+'_pos: ', cn1/ len(text))\n",
    "    print(model_name+'_neg: ', cn2/ len(text))\n",
    "        "
   ]
  },
  {
   "cell_type": "code",
   "execution_count": 10,
   "id": "4520cc64",
   "metadata": {},
   "outputs": [],
   "source": [
    "# print_sim(sents, psg, neg_psg, sbert_iq, 'sb_iq')"
   ]
  },
  {
   "cell_type": "code",
   "execution_count": 11,
   "id": "e3f46f6a",
   "metadata": {},
   "outputs": [
    {
     "name": "stdout",
     "output_type": "stream",
     "text": [
      "ours_ad_pos:  0.6833600657113003\n",
      "ours_ad_neg:  0.17224350360782342\n"
     ]
    }
   ],
   "source": [
    "print_sim(sents, psg, neg_psg, ours_ad, 'ours_ad')"
   ]
  },
  {
   "cell_type": "code",
   "execution_count": 12,
   "id": "899ca713",
   "metadata": {
    "scrolled": true
   },
   "outputs": [
    {
     "name": "stdout",
     "output_type": "stream",
     "text": [
      "ours_ad_st_pos:  0.6761248168952642\n",
      "ours_ad_st_neg:  0.16827534865340762\n"
     ]
    }
   ],
   "source": [
    "print_sim(sents_st, psg_st, neg_psg_st, ours_ad_st, 'ours_ad_st')"
   ]
  },
  {
   "cell_type": "code",
   "execution_count": 13,
   "id": "ea43b219",
   "metadata": {},
   "outputs": [
    {
     "name": "stdout",
     "output_type": "stream",
     "text": [
      "ours_curr_pos:  0.6045832274830698\n",
      "ours_curr_neg:  0.1382223948594675\n"
     ]
    }
   ],
   "source": [
    "print_sim(sents_st, psg_st, neg_psg_st, ours_curr, 'ours_curr')"
   ]
  },
  {
   "cell_type": "code",
   "execution_count": null,
   "id": "ca3a0711",
   "metadata": {},
   "outputs": [],
   "source": []
  }
 ],
 "metadata": {
  "kernelspec": {
   "display_name": "Python 3 (ipykernel)",
   "language": "python",
   "name": "python3"
  },
  "language_info": {
   "codemirror_mode": {
    "name": "ipython",
    "version": 3
   },
   "file_extension": ".py",
   "mimetype": "text/x-python",
   "name": "python",
   "nbconvert_exporter": "python",
   "pygments_lexer": "ipython3",
   "version": "3.7.7"
  }
 },
 "nbformat": 4,
 "nbformat_minor": 5
}
