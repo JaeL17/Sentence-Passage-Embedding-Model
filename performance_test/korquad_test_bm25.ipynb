{
 "cells": [
  {
   "cell_type": "code",
   "execution_count": 1,
   "id": "1e15bbdb",
   "metadata": {},
   "outputs": [],
   "source": [
    "import json\n",
    "from sentence_transformers import SentenceTransformer\n",
    "from sklearn.metrics.pairwise import cosine_similarity\n",
    "from sklearn.neighbors import NearestNeighbors\n",
    "import os\n",
    "#from kss import split_sentences"
   ]
  },
  {
   "cell_type": "code",
   "execution_count": 2,
   "id": "ab003aad",
   "metadata": {},
   "outputs": [],
   "source": [
    "def psg_sent_vec(psg, sents, model):\n",
    "    vec1 = model.encode(psg)\n",
    "    vec2 = model.encode(sents)\n",
    "    return vec1, vec2\n",
    "\n",
    "def knn(index_vec, test_vec):\n",
    "    knn_model = NearestNeighbors(n_neighbors=3,\n",
    "                     metric='cosine',\n",
    "                     algorithm='brute',\n",
    "                     n_jobs=-1)\n",
    "    knn_model.fit(index_vec)\n",
    "    res = knn_model.kneighbors(test_vec, 20, return_distance=True)\n",
    "    \n",
    "    return res\n",
    "\n",
    "def acc_ch(psg_data, sent_data, psg_lab, model, model_name):\n",
    "    topn = [1,3,5,10,20]\n",
    "    psg_vec, sents_vec = psg_sent_vec(psg_data, sent_data, model)\n",
    "    res = knn(psg_vec, sents_vec)\n",
    "    \n",
    "    for tn in topn:\n",
    "        ac = 0\n",
    "        for cnt, i in enumerate(res[1]):\n",
    "            psg_lst = []\n",
    "            for ps_idx in i[:tn]:\n",
    "                psg_lst.append(psg_data[ps_idx])\n",
    "            if psg_lab[cnt] in psg_lst:\n",
    "                ac+=1\n",
    "        print(model_name,' ',str(tn), ': ', ac/len(psg_lab))"
   ]
  },
  {
   "cell_type": "code",
   "execution_count": 3,
   "id": "6ec2a5ff",
   "metadata": {},
   "outputs": [],
   "source": [
    "os.environ['CUDA_VISIBLE_DEVICES']='0'"
   ]
  },
  {
   "cell_type": "code",
   "execution_count": 4,
   "id": "721750fc",
   "metadata": {},
   "outputs": [],
   "source": [
    "with open('korquad_test.json', 'r', encoding='utf8') as fp:\n",
    "    test_data = json.load(fp)"
   ]
  },
  {
   "cell_type": "code",
   "execution_count": 5,
   "id": "f17635a3",
   "metadata": {},
   "outputs": [],
   "source": [
    "psg_lab = [i['doc'] for i in test_data]\n",
    "psg = list(set(psg_lab))\n",
    "sents = [i['sent'] for i in test_data]\n",
    "psg_st_lab = ['[PSG] ' +i['doc'] for i in test_data]\n",
    "psg_st = list(set(psg_st_lab))\n",
    "sents_st = ['[SENT] '+i['sent'] for i in test_data]"
   ]
  },
  {
   "cell_type": "code",
   "execution_count": null,
   "id": "a6214563",
   "metadata": {},
   "outputs": [],
   "source": []
  },
  {
   "cell_type": "code",
   "execution_count": null,
   "id": "2cac3cb7",
   "metadata": {},
   "outputs": [],
   "source": []
  },
  {
   "cell_type": "code",
   "execution_count": 12,
   "id": "a3409e5f",
   "metadata": {},
   "outputs": [
    {
     "name": "stdout",
     "output_type": "stream",
     "text": [
      "ours_curr   1 :  0.6084170419120194\n",
      "ours_curr   3 :  0.7880152407343263\n",
      "ours_curr   5 :  0.8458607551091099\n",
      "ours_curr   10 :  0.9031866989954971\n",
      "ours_curr   20 :  0.9473501905091791\n"
     ]
    }
   ],
   "source": [
    "acc_ch(psg_st, sents_st, psg_st_lab,ours_curr, 'ours_curr')"
   ]
  },
  {
   "cell_type": "code",
   "execution_count": 19,
   "id": "6a06b8dc",
   "metadata": {},
   "outputs": [
    {
     "name": "stdout",
     "output_type": "stream",
     "text": [
      "ours_curr   1 :  0.600969864911673\n",
      "ours_curr   3 :  0.785417388292345\n",
      "ours_curr   5 :  0.8455143747835123\n",
      "ours_curr   10 :  0.9021475580187045\n",
      "ours_curr   20 :  0.9437131970904052\n"
     ]
    }
   ],
   "source": [
    "acc_ch(psg_st, sents_st, psg_st_lab,ours_curr, 'ours_curr')"
   ]
  },
  {
   "cell_type": "code",
   "execution_count": null,
   "id": "5fd91e54",
   "metadata": {},
   "outputs": [],
   "source": []
  }
 ],
 "metadata": {
  "kernelspec": {
   "display_name": "Python 3 (ipykernel)",
   "language": "python",
   "name": "python3"
  },
  "language_info": {
   "codemirror_mode": {
    "name": "ipython",
    "version": 3
   },
   "file_extension": ".py",
   "mimetype": "text/x-python",
   "name": "python",
   "nbconvert_exporter": "python",
   "pygments_lexer": "ipython3",
   "version": "3.7.7"
  }
 },
 "nbformat": 4,
 "nbformat_minor": 5
}
