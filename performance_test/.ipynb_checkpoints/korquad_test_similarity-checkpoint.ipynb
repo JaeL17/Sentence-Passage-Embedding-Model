{
 "cells": [
  {
   "cell_type": "code",
   "execution_count": 1,
   "id": "1e15bbdb",
   "metadata": {},
   "outputs": [],
   "source": [
    "import json\n",
    "from sentence_transformers import SentenceTransformer\n",
    "from sklearn.metrics.pairwise import cosine_similarity\n",
    "from sklearn.neighbors import NearestNeighbors\n",
    "import os\n",
    "import random"
   ]
  },
  {
   "cell_type": "code",
   "execution_count": 2,
   "id": "6ec2a5ff",
   "metadata": {},
   "outputs": [],
   "source": [
    "os.environ['CUDA_VISIBLE_DEVICES']='0'"
   ]
  },
  {
   "cell_type": "code",
   "execution_count": 3,
   "id": "721750fc",
   "metadata": {},
   "outputs": [],
   "source": [
    "with open('KorQuAD_v1.0_dev.json', 'r', encoding='utf8') as fp:\n",
    "    test_data = json.load(fp)"
   ]
  },
  {
   "cell_type": "code",
   "execution_count": 4,
   "id": "08b03d15",
   "metadata": {},
   "outputs": [],
   "source": [
    "sbert_iq = SentenceTransformer('../model_results/sbert_iq_all')\n",
    "ours_ad = SentenceTransformer('../model_results_ft/ours_ad')\n",
    "ours_ad_st = SentenceTransformer('../model_results_ft/ours_ad_st')\n",
    "ours_curr = SentenceTransformer('../model_results_ft/ours_curr')\n",
    "\n",
    "sbert_iq.to('cuda')\n",
    "ours_ad.to('cuda')\n",
    "ours_ad_st.to('cuda')\n",
    "ours_curr.to('cuda')\n",
    "print('')"
   ]
  },
  {
   "cell_type": "code",
   "execution_count": 5,
   "id": "722619a9",
   "metadata": {},
   "outputs": [],
   "source": [
    "pairs =[]\n",
    "for cnt, i in enumerate(test_data['data']):\n",
    "    for p in i['paragraphs']:\n",
    "        for qs in p['qas']:\n",
    "            rn1 = random.randint(0,len(test_data))\n",
    "            while rn1 == cnt:\n",
    "                rn1 = random.randint(0,len(test_data)-1)\n",
    "            rn2 = random.randint(0, len(test_data['data'][rn1]['paragraphs'])-1)\n",
    "            pairs.append({\n",
    "                'sent': qs['question'],\n",
    "                'doc': p['context'],\n",
    "                'neg_doc':test_data['data'][rn1]['paragraphs'][rn2]['context']\n",
    "            })"
   ]
  },
  {
   "cell_type": "code",
   "execution_count": 6,
   "id": "f17635a3",
   "metadata": {},
   "outputs": [],
   "source": [
    "psg = [i['doc'] for i in pairs]\n",
    "sents = [i['sent'] for i in pairs]\n",
    "psg_st = ['[PSG] ' +i['doc'] for i in pairs]\n",
    "sents_st = ['[SENT] '+i['sent'] for i in pairs]\n",
    "neg_psg = [i['neg_doc'] for i in pairs]\n",
    "neg_psg_st = ['[PSG] '+i['neg_doc'] for i in pairs]"
   ]
  },
  {
   "cell_type": "code",
   "execution_count": 7,
   "id": "ed9b944b",
   "metadata": {},
   "outputs": [],
   "source": [
    "def psg_sent_vec(psg, sents, neg_psg, model):\n",
    "    vec1 = model.encode(psg)\n",
    "    vec2 = model.encode(sents)\n",
    "    vec3 = model.encode(neg_psg)\n",
    "    return vec1, vec2, vec3\n",
    "def knn(index_vec, test_vec):\n",
    "    knn_model = NearestNeighbors(n_neighbors=3,\n",
    "                     metric='cosine',\n",
    "                     algorithm='brute',\n",
    "                     n_jobs=-1)\n",
    "    knn_model.fit(index_vec)\n",
    "    res = knn_model.kneighbors(test_vec, 3, return_distance=True)\n",
    "    \n",
    "    return res\n",
    "\n",
    "def cos_sim(psg, sent, neg_psg, model):\n",
    "    pvec,svec, npvec = psg_sent_vec(psg, sent,neg_psg, model)\n",
    "    cos_sim1 = cosine_similarity([pvec, svec])[0][1]\n",
    "    cos_sim2 = cosine_similarity([npvec, svec])[0][1]\n",
    "    return cos_sim1, cos_sim2\n",
    "    #print(m_name,': ' ,cos_sim,)\n",
    "    \n",
    "def print_sim(text,pos, neg, model, model_name):\n",
    "    cn1,cn2 = 0,0\n",
    "    for t,p,n in zip(text,pos,neg):\n",
    "        c1, c2 = cos_sim(p,t,n, model)\n",
    "        cn1 += c1\n",
    "        cn2 += c2\n",
    "    print(model_name+'_pos: ', cn1/ len(text))\n",
    "    print(model_name+'_neg: ', cn2/ len(text))\n",
    "        "
   ]
  }
 ],
 "metadata": {
  "kernelspec": {
   "display_name": "Python 3 (ipykernel)",
   "language": "python",
   "name": "python3"
  },
  "language_info": {
   "codemirror_mode": {
    "name": "ipython",
    "version": 3
   },
   "file_extension": ".py",
   "mimetype": "text/x-python",
   "name": "python",
   "nbconvert_exporter": "python",
   "pygments_lexer": "ipython3",
   "version": "3.7.7"
  }
 },
 "nbformat": 4,
 "nbformat_minor": 5
}
